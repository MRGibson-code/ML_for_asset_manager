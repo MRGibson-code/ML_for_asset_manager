{
 "cells": [
  {
   "cell_type": "code",
   "execution_count": 1,
   "metadata": {},
   "outputs": [],
   "source": [
    "import numpy as np\n",
    "import pandas as pd\n",
    "from sklearn.neighbors import KernelDensity\n",
    "from scipy.optimize import minimize"
   ]
  },
  {
   "cell_type": "code",
   "execution_count": 2,
   "metadata": {},
   "outputs": [],
   "source": [
    "%matplotlib inline\n",
    "import matplotlib.pyplot as plt"
   ]
  },
  {
   "cell_type": "markdown",
   "metadata": {},
   "source": [
    "### 2.2 The Marcenko–Pastur Theorem"
   ]
  },
  {
   "cell_type": "markdown",
   "metadata": {},
   "source": [
    "#### Snippet 2.1 The Marcenko–Pastur PDF"
   ]
  },
  {
   "cell_type": "code",
   "execution_count": 3,
   "metadata": {},
   "outputs": [],
   "source": [
    "def mpPDF(var, q, pts):\n",
    "    # Marcenko-Pastur pdf\n",
    "    # q = T/N\n",
    "    # print(var, q, pts)\n",
    "    eMin, eMax = var*(1-(1./q)**.5)**2, var*(1+(1./q)**.5)**2\n",
    "    eVal = np.linspace(eMin, eMax, pts)\n",
    "    pdf = q/(2*np.pi*var*eVal)*((eMax-eVal)*(eVal-eMin))**.5\n",
    "    pdf = pd.Series(pdf, index=eVal)\n",
    "    return pdf"
   ]
  },
  {
   "cell_type": "markdown",
   "metadata": {},
   "source": [
    "#### Snippet 2.2 Testing the Marcenko–Pastur Theorem"
   ]
  },
  {
   "cell_type": "code",
   "execution_count": 4,
   "metadata": {},
   "outputs": [],
   "source": [
    "def getPCA(matrix):\n",
    "    # Get eVal,eVec from a Hermitian matrix\n",
    "    eVal, eVec = np.linalg.eigh(matrix)\n",
    "    indices = eVal.argsort()[::-1] # arguments for sorting eVal desc\n",
    "    eVal, eVec = eVal[indices], eVec[:, indices]\n",
    "    eVal = np.diagflat(eVal)\n",
    "    return eVal, eVec"
   ]
  },
  {
   "cell_type": "code",
   "execution_count": 5,
   "metadata": {},
   "outputs": [],
   "source": [
    "def fitKDE(obs,bWidth=.25,kernel='gaussian',x=None):\n",
    "    # Fit kernel to a series of obs, and derive the prob of obs\n",
    "    # x is the array of values on which the fit KDE will be evaluated\n",
    "    if len(obs.shape) == 1:\n",
    "        obs = obs.reshape(-1,1)\n",
    "    kde = KernelDensity(kernel=kernel, bandwidth=bWidth).fit(obs)\n",
    "    if x is None:\n",
    "        x = np.unique(obs).reshape(-1,1)\n",
    "    if len(x.shape) == 1:\n",
    "        x = x.reshape(-1, 1)\n",
    "    logProb = kde.score_samples(x)  # log(density)\n",
    "    pdf = pd.Series(np.exp(logProb), index=x.flatten())\n",
    "    return pdf"
   ]
  },
  {
   "cell_type": "code",
   "execution_count": 6,
   "metadata": {},
   "outputs": [],
   "source": [
    "x = np.random.normal(size=(10000, 1000))\n",
    "eVal0, eVec0 = getPCA(np.corrcoef(x, rowvar=0))\n",
    "pdf0 = mpPDF(1., q=x.shape[0]/float(x.shape[1]), pts=1000)\n",
    "pdf1 = fitKDE(np.diag(eVal0), bWidth=.01)  # empirical pdfEnd Box"
   ]
  },
  {
   "cell_type": "code",
   "execution_count": 7,
   "metadata": {},
   "outputs": [
    {
     "data": {
      "image/png": "[encoded data removed]",
      "text/plain": [
       "<Figure size 432x288 with 1 Axes>"
      ]
     },
     "metadata": {},
     "output_type": "display_data"
    }
   ],
   "source": [
    "plt.plot(pdf0)\n",
    "plt.plot(pdf1)\n",
    "plt.legend(['Marcenko-Pastur', 'Empirical: KDE'])\n",
    "plt.xlabel(r'$\\lambda$')\n",
    "plt.ylabel(r'prob($\\lambda$)')\n",
    "plt.show()"
   ]
  },
  {
   "cell_type": "markdown",
   "metadata": {},
   "source": [
    "### 2.3 Random Matrix with Signal"
   ]
  },
  {
   "cell_type": "markdown",
   "metadata": {},
   "source": [
    "#### Snippet 2.3 Add Signal to a Random Covariance Matrix"
   ]
  },
  {
   "cell_type": "code",
   "execution_count": 8,
   "metadata": {},
   "outputs": [],
   "source": [
    "def getRndCov(nCols, nFacts):\n",
    "    w = np.random.normal(size=(nCols,nFacts))\n",
    "    cov = np.dot(w, w.T)  # random cov matrix, however not full rank\n",
    "    cov += np.diag(np.random.uniform(size=nCols)) # full rank cov\n",
    "    return cov"
   ]
  },
  {
   "cell_type": "code",
   "execution_count": 9,
   "metadata": {},
   "outputs": [],
   "source": [
    "def cov2corr(cov):\n",
    "    # Derive the correlation matrix from a covariance matrix\n",
    "    std = np.sqrt(np.diag(cov))\n",
    "    corr = cov/np.outer(std, std)\n",
    "    corr[corr<-1], corr[corr>1] = -1, 1  # numerical error\n",
    "    return corr"
   ]
  },
  {
   "cell_type": "code",
   "execution_count": 10,
   "metadata": {},
   "outputs": [],
   "source": [
    "alpha, nCols, nFact, q = .995, 1000, 100, 10\n",
    "cov = np.cov(np.random.normal(size=(nCols*q,nCols)), rowvar=0)\n",
    "cov = alpha*cov+(1-alpha)*getRndCov(nCols, nFact) # noise+signal\n",
    "corr0 = cov2corr(cov)\n",
    "eVal0, eVec0 = getPCA(corr0)"
   ]
  },
  {
   "cell_type": "markdown",
   "metadata": {},
   "source": [
    "### 2.4 Fitting the Marcenko–Pastur Distribution"
   ]
  },
  {
   "cell_type": "markdown",
   "metadata": {},
   "source": [
    "#### Snippet 2.4 Fitting the Marcenko–Pastur PDF"
   ]
  },
  {
   "cell_type": "code",
   "execution_count": 11,
   "metadata": {},
   "outputs": [],
   "source": [
    "def errPDFs(var, eVal, q, bWidth, pts=1000):\n",
    "    # Fit error\n",
    "    # print(var, q, pts)\n",
    "    var = var[0]\n",
    "    pdf0 = mpPDF(var, q, pts) # theoretical pdf\n",
    "    pdf1 = fitKDE(eVal, bWidth, x=pdf0.index.values) # empirical pdf\n",
    "    sse = np.sum((pdf1-pdf0)**2)\n",
    "    return sse"
   ]
  },
  {
   "cell_type": "code",
   "execution_count": 12,
   "metadata": {},
   "outputs": [],
   "source": [
    "def findMaxEval(eVal, q, bWidth):\n",
    "    # Find max random eVal by fitting Marcenko’s dist\n",
    "    out = minimize(lambda *x: errPDFs(*x), .5, args=(eVal, q, bWidth),\n",
    "                   bounds=((1E-5, 1-1E-5),))\n",
    "    if out['success']:\n",
    "        var = out['x'][0]\n",
    "    else:\n",
    "        var = 1\n",
    "    eMax = var*(1+(1./q)**.5)**2\n",
    "    return eMax, var"
   ]
  },
  {
   "cell_type": "code",
   "execution_count": 13,
   "metadata": {},
   "outputs": [],
   "source": [
    "eMax0, var0 = findMaxEval(np.diag(eVal0), q, bWidth=.01)\n",
    "nFacts0 = eVal0.shape[0] - np.diag(eVal0)[::-1].searchsorted(eMax0)"
   ]
  },
  {
   "cell_type": "code",
   "execution_count": 14,
   "metadata": {},
   "outputs": [
    {
     "name": "stdout",
     "output_type": "stream",
     "text": [
      "1.1733994469068472 0.6773042223654825 100\n"
     ]
    }
   ],
   "source": [
    "print(eMax0, var0, nFacts0)"
   ]
  },
  {
   "cell_type": "code",
   "execution_count": 15,
   "metadata": {},
   "outputs": [
    {
     "data": {
      "image/png": "[encoded data removed]",
      "text/plain": [
       "<Figure size 432x288 with 1 Axes>"
      ]
     },
     "metadata": {},
     "output_type": "display_data"
    }
   ],
   "source": [
    "pdf0 = mpPDF(var0, q, pts=1000)\n",
    "pdf1 = fitKDE(np.diag(eVal0), bWidth=.01)  # empirical pdfEnd Box\n",
    "\n",
    "plt.plot(pdf0)\n",
    "plt.bar(pdf1.index, pdf1.values, 0.01, color='tab:orange')\n",
    "plt.legend(['Marcenko-Pastur', 'Empirical: KDE'])\n",
    "plt.xlabel(r'$\\lambda$')\n",
    "plt.ylabel(r'prob($\\lambda$)')\n",
    "plt.show()"
   ]
  },
  {
   "cell_type": "markdown",
   "metadata": {},
   "source": [
    "### 2.5 Denoising"
   ]
  },
  {
   "cell_type": "markdown",
   "metadata": {},
   "source": [
    "### 2.5.1 Constant Residual Eigenvalue Method"
   ]
  },
  {
   "cell_type": "markdown",
   "metadata": {},
   "source": [
    "#### Snippet 2.5 Denoising by Constant Residual Eigenvalue"
   ]
  },
  {
   "cell_type": "code",
   "execution_count": 16,
   "metadata": {},
   "outputs": [],
   "source": [
    "def denoisedCorr(eVal, eVec, nFacts):\n",
    "    # Remove noise from corr by fixing random eigenvalues\n",
    "    eVal_ = np.diag(eVal).copy()\n",
    "    eVal_[nFacts:] = eVal_[nFacts:].sum() / float(eVal_.shape[0] - nFacts)\n",
    "    eVal_ = np.diag(eVal_)\n",
    "    corr1 = np.dot(eVec, eVal_).dot(eVec.T)\n",
    "    corr1 = cov2corr(corr1)\n",
    "    return corr1"
   ]
  },
  {
   "cell_type": "code",
   "execution_count": 17,
   "metadata": {},
   "outputs": [],
   "source": [
    "corr1 = denoisedCorr(eVal0, eVec0, nFacts0)\n",
    "eVal1, eVec1 = getPCA(corr1)"
   ]
  },
  {
   "cell_type": "code",
   "execution_count": 18,
   "metadata": {},
   "outputs": [
    {
     "data": {
      "image/png": "[encoded data removed]",
      "text/plain": [
       "<Figure size 432x288 with 1 Axes>"
      ]
     },
     "metadata": {},
     "output_type": "display_data"
    }
   ],
   "source": [
    "cnt0 = sorted(np.diag(eVal0), reverse=True)\n",
    "cnt1 = sorted(np.diag(eVal1), reverse=True)\n",
    "plt.plot(cnt0)\n",
    "plt.plot(cnt1, '--')\n",
    "plt.xlabel('Eigenvalue number')\n",
    "plt.ylabel('Eigenvalue (log-scale)')\n",
    "plt.legend(['Original eigen-function', 'Denoised eigen-function'])\n",
    "plt.yscale('log')\n",
    "plt.show()"
   ]
  },
  {
   "cell_type": "markdown",
   "metadata": {},
   "source": [
    "#### Snippet 2.6 Denoising by Targeted Shrinkage"
   ]
  },
  {
   "cell_type": "code",
   "execution_count": 19,
   "metadata": {},
   "outputs": [],
   "source": [
    "def denoisedCorr2(eVal, eVec, nFacts, alpha=0):\n",
    "    # Remove noise from corr through targeted shrinkage\n",
    "    eValL, eVecL = eVal[:nFacts, :nFacts], eVec[:, :nFacts]\n",
    "    eValR, eVecR = eVal[nFacts:, nFacts:], eVec[:, nFacts:]\n",
    "    corr0 = np.dot(eVecL, eValL).dot(eVecL.T)\n",
    "    corr1 = np.dot(eVecR, eValR).dot(eVecR.T)\n",
    "    corr2 = corr0 + alpha*corr1 + (1 - alpha)*np.diag(np.diag(corr1))\n",
    "    return corr2"
   ]
  },
  {
   "cell_type": "code",
   "execution_count": 20,
   "metadata": {},
   "outputs": [],
   "source": [
    "corr1 = denoisedCorr2(eVal0, eVec0, nFacts0, alpha=.5)\n",
    "eVal1, eVec1 = getPCA(corr1)"
   ]
  },
  {
   "cell_type": "code",
   "execution_count": 21,
   "metadata": {},
   "outputs": [
    {
     "data": {
      "image/png": "[encoded data removed]",
      "text/plain": [
       "<Figure size 432x288 with 1 Axes>"
      ]
     },
     "metadata": {},
     "output_type": "display_data"
    }
   ],
   "source": [
    "cnt0 = sorted(np.diag(eVal0), reverse=True)\n",
    "cnt1 = sorted(np.diag(eVal1), reverse=True)\n",
    "plt.plot(cnt0)\n",
    "plt.plot(cnt1, '--')\n",
    "plt.xlabel('Eigenvalue number')\n",
    "plt.ylabel('Eigenvalue (log-scale)')\n",
    "plt.legend(['Original eigen-function', 'Denoised eigen-function'])\n",
    "plt.yscale('log')\n",
    "plt.show()"
   ]
  },
  {
   "cell_type": "markdown",
   "metadata": {},
   "source": [
    "### 2.6 Detoning\n"
   ]
  },
  {
   "cell_type": "markdown",
   "metadata": {},
   "source": [
    "### 2.7 Experimental Results"
   ]
  },
  {
   "cell_type": "markdown",
   "metadata": {},
   "source": [
    "#### 2.7.1 Minimum Variance Portfolio"
   ]
  },
  {
   "cell_type": "markdown",
   "metadata": {},
   "source": [
    "#### Snippet 2.7 Generating a Block-Diagonal Covariance Matrix and a Vector of Means"
   ]
  },
  {
   "cell_type": "code",
   "execution_count": 22,
   "metadata": {},
   "outputs": [],
   "source": [
    "from scipy.linalg import block_diag\n",
    "from sklearn.covariance import LedoitWolf"
   ]
  },
  {
   "cell_type": "code",
   "execution_count": 23,
   "metadata": {},
   "outputs": [],
   "source": [
    "def corr2cov(corr, std):\n",
    "    cov = corr*np.outer(std, std)\n",
    "    return cov"
   ]
  },
  {
   "cell_type": "code",
   "execution_count": 24,
   "metadata": {},
   "outputs": [],
   "source": [
    "def formBlockMatrix(nBlocks, bSize, bCorr):\n",
    "    block = np.ones((bSize, bSize))*bCorr\n",
    "    block[range(bSize), range(bSize)] = 1\n",
    "    corr = block_diag(*([block]*nBlocks))\n",
    "    return corr"
   ]
  },
  {
   "cell_type": "code",
   "execution_count": 25,
   "metadata": {},
   "outputs": [],
   "source": [
    "def formTrueMatrix(nBlocks, bSize, bCorr):\n",
    "    corr0 = formBlockMatrix(nBlocks, bSize, bCorr)\n",
    "    corr0 = pd.DataFrame(corr0)\n",
    "    cols = corr0.columns.tolist()\n",
    "    np.random.shuffle(cols)\n",
    "    corr0 = corr0[cols].loc[cols].copy(deep=True)\n",
    "    std0 = np.random.uniform(.05, .2, corr0.shape[0])\n",
    "    cov0 = corr2cov(corr0, std0)\n",
    "    mu0 = np.random.normal(std0, std0, cov0.shape[0]).reshape(-1,1)\n",
    "    return mu0, cov0"
   ]
  },
  {
   "cell_type": "code",
   "execution_count": 26,
   "metadata": {},
   "outputs": [],
   "source": [
    "nBlocks, bSize, bCorr = 10, 50, .5\n",
    "np.random.seed(0)\n",
    "mu0, cov0 = formTrueMatrix(nBlocks, bSize, bCorr)"
   ]
  },
  {
   "cell_type": "markdown",
   "metadata": {},
   "source": [
    "#### Snippet 2.8 Generating the Empirical Covariance Matrix"
   ]
  },
  {
   "cell_type": "code",
   "execution_count": 27,
   "metadata": {},
   "outputs": [],
   "source": [
    "def simCovMu(mu0, cov0, nObs, shrink=False):\n",
    "    x = np.random.multivariate_normal(mu0.flatten(), cov0, size=nObs)\n",
    "    mu1 = x.mean(axis=0).reshape(-1, 1)\n",
    "    if shrink:\n",
    "        cov1 = LedoitWolf().fit(x).covariance_\n",
    "    else:\n",
    "        cov1 = np.cov(x, rowvar=0)\n",
    "    return mu1, cov1"
   ]
  },
  {
   "cell_type": "markdown",
   "metadata": {},
   "source": [
    "#### Snippet 2.9 Denoising of the Empirical Covariance Matrix"
   ]
  },
  {
   "cell_type": "code",
   "execution_count": 28,
   "metadata": {},
   "outputs": [],
   "source": [
    "def deNoiseCov(cov0, q, bWidth):\n",
    "    corr0 = cov2corr(cov0)\n",
    "    eVal0, eVec0 = getPCA(corr0)\n",
    "    eMax0, var0 = findMaxEval(np.diag(eVal0), q, bWidth)\n",
    "    nFacts0 = eVal0.shape[0] - np.diag(eVal0)[::-1].searchsorted(eMax0)\n",
    "    corr1 = denoisedCorr(eVal0, eVec0, nFacts0)\n",
    "    cov1 = corr2cov(corr1, np.diag(cov0)**.5)\n",
    "    return cov1"
   ]
  },
  {
   "cell_type": "markdown",
   "metadata": {},
   "source": [
    "#### Snippet 2.10 Denoising of the Empirical Covariance Matrix"
   ]
  },
  {
   "cell_type": "code",
   "execution_count": 29,
   "metadata": {},
   "outputs": [],
   "source": [
    "def optPort(cov, mu=None):\n",
    "    inv = np.linalg.inv(cov)\n",
    "    ones = np.ones(shape=(inv.shape[0], 1))\n",
    "    if mu is None:\n",
    "        mu=ones\n",
    "    w = np.dot(inv, mu)\n",
    "    w /= np.dot(ones.T, w)\n",
    "    return w"
   ]
  },
  {
   "cell_type": "code",
   "execution_count": null,
   "metadata": {},
   "outputs": [],
   "source": [
    "nObs, nTrials, bWidth, shrink, minVarPortf = \\\n",
    "    1000, 1000, .01, False, True\n",
    "w1 = pd.DataFrame(columns=range(cov0.shape[0]),\n",
    "                  index=range(nTrials), dtype=float)\n",
    "w1_d = w1.copy(deep=True)\n",
    "np.random.seed(0)\n",
    "\n",
    "for i in range(nTrials):\n",
    "    mu1, cov1 = simCovMu(mu0, cov0, nObs, shrink=shrink)\n",
    "    if minVarPortf:\n",
    "        mu1 = None\n",
    "    cov1_d = deNoiseCov(cov1, nObs*1./cov1.shape[1], bWidth)\n",
    "    w1.loc[i] = optPort(cov1, mu1).flatten()\n",
    "    w1_d.loc[i] = optPort(cov1_d, mu1).flatten()"
   ]
  },
  {
   "cell_type": "markdown",
   "metadata": {},
   "source": [
    "#### Snippet 2.11 Root-Mean-Square Errors"
   ]
  },
  {
   "cell_type": "code",
   "execution_count": null,
   "metadata": {},
   "outputs": [],
   "source": [
    "w0 = optPort(cov0, None if minVarPortf else mu0)\n",
    "w0 = np.repeat(w0.T, w1.shape[0], axis=0)\n",
    "rmsd = np.mean((w1-w0).values.flatten()**2)**.5  # RMSE\n",
    "rmsd_d = np.mean((w1_d-w0).values.flatten()**2)**.5  # RMSE\n",
    "print(rmsd, rmsd_d)"
   ]
  }
 ],
 "metadata": {
  "kernelspec": {
   "display_name": "mlam",
   "language": "python",
   "name": "mlam"
  },
  "language_info": {
   "codemirror_mode": {
    "name": "ipython",
    "version": 3
   },
   "file_extension": ".py",
   "mimetype": "text/x-python",
   "name": "python",
   "nbconvert_exporter": "python",
   "pygments_lexer": "ipython3",
   "version": "3.6.5"
  }
 },
 "nbformat": 4,
 "nbformat_minor": 2
}
